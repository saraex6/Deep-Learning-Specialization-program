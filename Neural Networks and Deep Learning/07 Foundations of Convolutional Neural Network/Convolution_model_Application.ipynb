{
 "cells": [
  {
   "cell_type": "markdown",
   "metadata": {},
   "source": [
    "# Convolutional Neural Networks: Application\n",
    "\n",
    "Welcome to Course 4's second assignment! In this notebook, you will:\n",
    "\n",
    "- Create a mood classifer using the TF Keras Sequential API\n",
    "- Build a ConvNet to identify sign language digits using the TF Keras Functional API\n",
    "\n",
    "**After this assignment you will be able to:**\n",
    "\n",
    "- Build and train a ConvNet in TensorFlow for a __binary__ classification problem\n",
    "- Build and train a ConvNet in TensorFlow for a __multiclass__ classification problem\n",
    "- Explain different use cases for the Sequential and Functional APIs\n",
    "\n",
    "To complete this assignment, you should already be familiar with TensorFlow. If you are not, please refer back to the **TensorFlow Tutorial** of the third week of Course 2 (\"**Improving deep neural networks**\").\n",
    "\n",
    "## Important Note on Submission to the AutoGrader\n",
    "\n",
    "Before submitting your assignment to the AutoGrader, please make sure you are not doing the following:\n",
    "\n",
    "1. You have not added any _extra_ `print` statement(s) in the assignment.\n",
    "2. You have not added any _extra_ code cell(s) in the assignment.\n",
    "3. You have not changed any of the function parameters.\n",
    "4. You are not using any global variables inside your graded exercises. Unless specifically instructed to do so, please refrain from it and use the local variables instead.\n",
    "5. You are not changing the assignment code where it is not required, like creating _extra_ variables.\n",
    "\n",
    "If you do any of the following, you will get something like, `Grader not found` (or similarly unexpected) error upon submitting your assignment. Before asking for help/debugging the errors in your assignment, check for these first. If this is the case, and you don't remember the changes you have made, you can get a fresh copy of the assignment by following these [instructions](https://www.coursera.org/learn/convolutional-neural-networks/supplement/DS4yP/h-ow-to-refresh-your-workspace)."
   ]
  },
  {
   "cell_type": "markdown",
   "metadata": {},
   "source": [
    "## Table of Contents\n",
    "\n",
    "- [1 - Packages](#1)\n",
    "    - [1.1 - Load the Data and Split the Data into Train/Test Sets](#1-1)\n",
    "- [2 - Layers in TF Keras](#2)\n",
    "- [3 - The Sequential API](#3)\n",
    "    - [3.1 - Create the Sequential Model](#3-1)\n",
    "        - [Exercise 1 - happyModel](#ex-1)\n",
    "    - [3.2 - Train and Evaluate the Model](#3-2)\n",
    "- [4 - The Functional API](#4)\n",
    "    - [4.1 - Load the SIGNS Dataset](#4-1)\n",
    "    - [4.2 - Split the Data into Train/Test Sets](#4-2)\n",
    "    - [4.3 - Forward Propagation](#4-3)\n",
    "        - [Exercise 2 - convolutional_model](#ex-2)\n",
    "    - [4.4 - Train the Model](#4-4)\n",
    "- [5 - History Object](#5)\n",
    "- [6 - Bibliography](#6)"
   ]
  },
  {
   "cell_type": "markdown",
   "metadata": {},
   "source": [
    "<a name='1'></a>\n",
    "## 1 - Packages\n",
    "\n",
    "As usual, begin by loading in the packages."
   ]
  },
  {
   "cell_type": "code",
   "execution_count": 1,
   "metadata": {},
   "outputs": [],
   "source": [
    "import math\n",
    "import numpy as np\n",
    "import h5py\n",
    "import matplotlib.pyplot as plt\n",
    "from matplotlib.pyplot import imread\n",
    "import scipy\n",
    "from PIL import Image\n",
    "import pandas as pd\n",
    "import tensorflow as tf\n",
    "import tensorflow.keras.layers as tfl\n",
    "from tensorflow.python.framework import ops\n",
    "from cnn_utils import *\n",
    "from test_utils import summary, comparator\n",
    "\n",
    "%matplotlib inline\n",
    "np.random.seed(1)"
   ]
  },
  {
   "cell_type": "markdown",
   "metadata": {},
   "source": [
    "<a name='1-1'></a>\n",
    "### 1.1 - Load the Data and Split the Data into Train/Test Sets\n",
    "\n",
    "You'll be using the Happy House dataset for this part of the assignment, which contains images of peoples' faces. Your task will be to build a ConvNet that determines whether the people in the images are smiling or not -- because they only get to enter the house if they're smiling!  "
   ]
  },
  {
   "cell_type": "code",
   "execution_count": 2,
   "metadata": {},
   "outputs": [
    {
     "name": "stdout",
     "output_type": "stream",
     "text": [
      "number of training examples = 600\n",
      "number of test examples = 150\n",
      "X_train shape: (600, 64, 64, 3)\n",
      "Y_train shape: (600, 1)\n",
      "X_test shape: (150, 64, 64, 3)\n",
      "Y_test shape: (150, 1)\n"
     ]
    }
   ],
   "source": [
    "X_train_orig, Y_train_orig, X_test_orig, Y_test_orig, classes = load_happy_dataset()\n",
    "\n",
    "# Normalize image vectors\n",
    "X_train = X_train_orig/255.\n",
    "X_test = X_test_orig/255.\n",
    "\n",
    "# Reshape\n",
    "Y_train = Y_train_orig.T\n",
    "Y_test = Y_test_orig.T\n",
    "\n",
    "print (\"number of training examples = \" + str(X_train.shape[0]))\n",
    "print (\"number of test examples = \" + str(X_test.shape[0]))\n",
    "print (\"X_train shape: \" + str(X_train.shape))\n",
    "print (\"Y_train shape: \" + str(Y_train.shape))\n",
    "print (\"X_test shape: \" + str(X_test.shape))\n",
    "print (\"Y_test shape: \" + str(Y_test.shape))"
   ]
  },
  {
   "cell_type": "markdown",
   "metadata": {},
   "source": [
    "You can display the images contained in the dataset. Images are **64x64** pixels in RGB format (3 channels)."
   ]
  },
  {
   "cell_type": "code",
   "execution_count": 3,
   "metadata": {},
   "outputs": [
    {
     "data": {
      "image/png": "[encoded data removed]",
      "text/plain": [
       "<Figure size 432x288 with 1 Axes>"
      ]
     },
     "metadata": {
      "needs_background": "light"
     },
     "output_type": "display_data"
    }
   ],
   "source": [
    "index = 124\n",
    "plt.imshow(X_train_orig[index]) #display sample training image\n",
    "plt.show()"
   ]
  },
  {
   "cell_type": "markdown",
   "metadata": {},
   "source": [
    "<a name='2'></a>\n",
    "## 2 - Layers in TF Keras \n",
    "\n",
    "In the previous assignment, you created layers manually in numpy. In TF Keras, you don't have to write code directly to create layers. Rather, TF Keras has pre-defined layers you can use. \n",
    "\n",
    "When you create a layer in TF Keras, you are creating a function that takes some input and transforms it into an output you can reuse later. Nice and easy! "
   ]
  },
  {
   "cell_type": "markdown",
   "metadata": {},
   "source": [
    "<a name='3'></a>\n",
    "## 3 - The Sequential API\n",
    "\n",
    "In the previous assignment, you built helper functions using `numpy` to understand the mechanics behind convolutional neural networks. Most practical applications of deep learning today are built using programming frameworks, which have many built-in functions you can simply call. Keras is a high-level abstraction built on top of TensorFlow, which allows for even more simplified and optimized model creation and training. \n",
    "\n",
    "For the first part of this assignment, you'll create a model using TF Keras' Sequential API, which allows you to build layer by layer, and is ideal for building models where each layer has **exactly one** input tensor and **one** output tensor. \n",
    "\n",
    "As you'll see, using the Sequential API is simple and straightforward, but is only appropriate for simpler, more straightforward tasks. Later in this notebook you'll spend some time building with a more flexible, powerful alternative: the Functional API. \n",
    " "
   ]
  },
  {
   "cell_type": "markdown",
   "metadata": {},
   "source": [
    "<a name='3-1'></a>\n",
    "### 3.1 - Create the Sequential Model\n",
    "\n",
    "As mentioned earlier, the TensorFlow Keras Sequential API can be used to build simple models with layer operations that proceed in a sequential order. \n",
    "\n",
    "You can also add layers incrementally to a Sequential model with the `.add()` method, or remove them using the `.pop()` method, much like you would in a regular Python list.\n",
    "\n",
    "Actually, you can think of a Sequential model as behaving like a list of layers. Like Python lists, Sequential layers are ordered, and the order in which they are specified matters.  If your model is non-linear or contains layers with multiple inputs or outputs, a Sequential model wouldn't be the right choice!\n",
    "\n",
    "For any layer construction in Keras, you'll need to specify the input shape in advance. This is because in Keras, the shape of the weights is based on the shape of the inputs. The weights are only created when the model first sees some input data. Sequential models can be created by passing a list of layers to the Sequential constructor, like you will do in the next assignment.\n",
    "\n",
    "<a name='ex-1'></a>\n",
    "### Exercise 1 - happyModel\n",
    "\n",
    "Implement the `happyModel` function below to build the following model: `ZEROPAD2D -> CONV2D -> BATCHNORM -> RELU -> MAXPOOL -> FLATTEN -> DENSE`. Take help from [tf.keras.layers](https://www.tensorflow.org/api_docs/python/tf/keras/layers) \n",
    "\n",
    "Also, plug in the following parameters for all the steps:\n",
    "\n",
    " - [ZeroPadding2D](https://www.tensorflow.org/api_docs/python/tf/keras/layers/ZeroPadding2D): padding 3, input shape 64 x 64 x 3\n",
    " - [Conv2D](https://www.tensorflow.org/api_docs/python/tf/keras/layers/Conv2D): Use 32 7x7 filters, stride 1\n",
    " - [BatchNormalization](https://www.tensorflow.org/api_docs/python/tf/keras/layers/BatchNormalization): for axis 3\n",
    " - [ReLU](https://www.tensorflow.org/api_docs/python/tf/keras/layers/ReLU)\n",
    " - [MaxPool2D](https://www.tensorflow.org/api_docs/python/tf/keras/layers/MaxPool2D): Using default parameters\n",
    " - [Flatten](https://www.tensorflow.org/api_docs/python/tf/keras/layers/Flatten) the previous output.\n",
    " - Fully-connected ([Dense](https://www.tensorflow.org/api_docs/python/tf/keras/layers/Dense)) layer: Apply a fully connected layer with 1 neuron and a sigmoid activation. \n",
    " \n",
    " \n",
    " **Hint:**\n",
    " \n",
    " Use **tfl** as shorthand for **tensorflow.keras.layers**"
   ]
  },
  {
   "cell_type": "code",
   "execution_count": 4,
   "metadata": {
    "deletable": false,
    "nbgrader": {
     "cell_type": "code",
     "checksum": "95d28b191f257bdd5b70c7b8952559d5",
     "grade": false,
     "grade_id": "cell-0e56d3fc28b69aec",
     "locked": false,
     "schema_version": 3,
     "solution": true,
     "task": false
    }
   },
   "outputs": [],
   "source": [
    "# GRADED FUNCTION: happyModel\n",
    "\n",
    "def happyModel():\n",
    "    \"\"\"\n",
    "    Implements the forward propagation for the binary classification model:\n",
    "    ZEROPAD2D -> CONV2D -> BATCHNORM -> RELU -> MAXPOOL -> FLATTEN -> DENSE\n",
    "    \n",
    "    Note that for simplicity and grading purposes, you'll hard-code all the values\n",
    "    such as the stride and kernel (filter) sizes. \n",
    "    Normally, functions should take these values as function parameters.\n",
    "    \n",
    "    Arguments:\n",
    "    None\n",
    "\n",
    "    Returns:\n",
    "    model -- TF Keras model (object containing the information for the entire training process) \n",
    "    \"\"\"\n",
    "    model = tf.keras.Sequential([\n",
    "           \n",
    "            # YOUR CODE STARTS HERE\n",
    "            \n",
    "            ## ZeroPadding2D with padding 3, input shape of 64 x 64 x 3\n",
    "            tf.keras.Input(shape=(64 , 64 ,3)),\n",
    "            tfl.ZeroPadding2D(padding=3),\n",
    "        \n",
    "            ## Conv2D with 32 7x7 filters and stride of 1\n",
    "            tfl.Conv2D(filters=32,kernel_size=7,strides=1),\n",
    "        \n",
    "            ## BatchNormalization for axis 3\n",
    "            tfl.BatchNormalization(axis=3, momentum=0.99, epsilon=0.001),\n",
    "        \n",
    "            ## ReLU\n",
    "            tfl.ReLU(),\n",
    "        \n",
    "            ## Max Pooling 2D with default parameters\n",
    "            tfl.MaxPool2D(),\n",
    "        \n",
    "            ## Flatten layer\n",
    "            tfl.Flatten(),\n",
    "        \n",
    "            ## Dense layer with 1 unit for output & 'sigmoid' activation\n",
    "            tfl.Dense(1,activation='sigmoid')\n",
    "        \n",
    "            # YOUR CODE ENDS HERE\n",
    "        ])\n",
    "    \n",
    "    return model"
   ]
  },
  {
   "cell_type": "code",
   "execution_count": 5,
   "metadata": {
    "deletable": false,
    "editable": false,
    "nbgrader": {
     "cell_type": "code",
     "checksum": "8d3575c950e2e78149be2d05d671c80d",
     "grade": true,
     "grade_id": "cell-e3e1046e5c33d775",
     "locked": true,
     "points": 10,
     "schema_version": 3,
     "solution": false,
     "task": false
    }
   },
   "outputs": [
    {
     "name": "stdout",
     "output_type": "stream",
     "text": [
      "['ZeroPadding2D', (None, 70, 70, 3), 0, ((3, 3), (3, 3))]\n",
      "['Conv2D', (None, 64, 64, 32), 4736, 'valid', 'linear', 'GlorotUniform']\n",
      "['BatchNormalization', (None, 64, 64, 32), 128]\n",
      "['ReLU', (None, 64, 64, 32), 0]\n",
      "['MaxPooling2D', (None, 32, 32, 32), 0, (2, 2), (2, 2), 'valid']\n",
      "['Flatten', (None, 32768), 0]\n",
      "['Dense', (None, 1), 32769, 'sigmoid']\n",
      "\u001b[32mAll tests passed!\u001b[0m\n"
     ]
    }
   ],
   "source": [
    "happy_model = happyModel()\n",
    "# Print a summary for each layer\n",
    "for layer in summary(happy_model):\n",
    "    print(layer)\n",
    "    \n",
    "output = [['ZeroPadding2D', (None, 70, 70, 3), 0, ((3, 3), (3, 3))],\n",
    "            ['Conv2D', (None, 64, 64, 32), 4736, 'valid', 'linear', 'GlorotUniform'],\n",
    "            ['BatchNormalization', (None, 64, 64, 32), 128],\n",
    "            ['ReLU', (None, 64, 64, 32), 0],\n",
    "            ['MaxPooling2D', (None, 32, 32, 32), 0, (2, 2), (2, 2), 'valid'],\n",
    "            ['Flatten', (None, 32768), 0],\n",
    "            ['Dense', (None, 1), 32769, 'sigmoid']]\n",
    "    \n",
    "comparator(summary(happy_model), output)"
   ]
  },
  {
   "cell_type": "markdown",
   "metadata": {},
   "source": [
    "Now that your model is created, you can compile it for training with an optimizer and loss of your choice. When the string `accuracy` is specified as a metric, the type of accuracy used will be automatically converted based on the loss function used. This is one of the many optimizations built into TensorFlow that make your life easier! If you'd like to read more on how the compiler operates, check the docs [here](https://www.tensorflow.org/api_docs/python/tf/keras/Model#compile)."
   ]
  },
  {
   "cell_type": "code",
   "execution_count": 6,
   "metadata": {},
   "outputs": [],
   "source": [
    "happy_model.compile(optimizer='adam',\n",
    "                   loss='binary_crossentropy',\n",
    "                   metrics=['accuracy'])"
   ]
  },
  {
   "cell_type": "markdown",
   "metadata": {},
   "source": [
    "It's time to check your model's parameters with the `.summary()` method. This will display the types of layers you have, the shape of the outputs, and how many parameters are in each layer. "
   ]
  },
  {
   "cell_type": "code",
   "execution_count": 7,
   "metadata": {},
   "outputs": [
    {
     "name": "stdout",
     "output_type": "stream",
     "text": [
      "Model: \"sequential\"\n",
      "_________________________________________________________________\n",
      "Layer (type)                 Output Shape              Param #   \n",
      "=================================================================\n",
      "zero_padding2d (ZeroPadding2 (None, 70, 70, 3)         0         \n",
      "_________________________________________________________________\n",
      "conv2d (Conv2D)              (None, 64, 64, 32)        4736      \n",
      "_________________________________________________________________\n",
      "batch_normalization (BatchNo (None, 64, 64, 32)        128       \n",
      "_________________________________________________________________\n",
      "re_lu (ReLU)                 (None, 64, 64, 32)        0         \n",
      "_________________________________________________________________\n",
      "max_pooling2d (MaxPooling2D) (None, 32, 32, 32)        0         \n",
      "_________________________________________________________________\n",
      "flatten (Flatten)            (None, 32768)             0         \n",
      "_________________________________________________________________\n",
      "dense (Dense)                (None, 1)                 32769     \n",
      "=================================================================\n",
      "Total params: 37,633\n",
      "Trainable params: 37,569\n",
      "Non-trainable params: 64\n",
      "_________________________________________________________________\n"
     ]
    }
   ],
   "source": [
    "happy_model.summary()"
   ]
  },
  {
   "cell_type": "markdown",
   "metadata": {},
   "source": [
    "<a name='3-2'></a>\n",
    "### 3.2 - Train and Evaluate the Model\n",
    "\n",
    "After creating the model, compiling it with your choice of optimizer and loss function, and doing a sanity check on its contents, you are now ready to build! \n",
    "\n",
    "Simply call `.fit()` to train. That's it! No need for mini-batching, saving, or complex backpropagation computations. That's all been done for you, as you're using a TensorFlow dataset with the batches specified already. You do have the option to specify epoch number or minibatch size if you like (for example, in the case of an un-batched dataset)."
   ]
  },
  {
   "cell_type": "code",
   "execution_count": 8,
   "metadata": {},
   "outputs": [
    {
     "name": "stdout",
     "output_type": "stream",
     "text": [
      "Epoch 1/10\n",
      "38/38 [==============================] - 4s 100ms/step - loss: 2.0352 - accuracy: 0.6150\n",
      "Epoch 2/10\n",
      "38/38 [==============================] - 4s 98ms/step - loss: 0.4037 - accuracy: 0.8433\n",
      "Epoch 3/10\n",
      "38/38 [==============================] - 4s 98ms/step - loss: 0.2231 - accuracy: 0.9250\n",
      "Epoch 4/10\n",
      "38/38 [==============================] - 4s 97ms/step - loss: 0.2103 - accuracy: 0.9150\n",
      "Epoch 5/10\n",
      "38/38 [==============================] - 4s 97ms/step - loss: 0.1634 - accuracy: 0.9317\n",
      "Epoch 6/10\n",
      "38/38 [==============================] - 4s 95ms/step - loss: 0.0948 - accuracy: 0.9683\n",
      "Epoch 7/10\n",
      "38/38 [==============================] - 4s 97ms/step - loss: 0.1047 - accuracy: 0.9650\n",
      "Epoch 8/10\n",
      "38/38 [==============================] - 4s 95ms/step - loss: 0.1391 - accuracy: 0.9483\n",
      "Epoch 9/10\n",
      "38/38 [==============================] - 4s 95ms/step - loss: 0.0690 - accuracy: 0.9767\n",
      "Epoch 10/10\n",
      "38/38 [==============================] - 4s 95ms/step - loss: 0.0735 - accuracy: 0.9700\n"
     ]
    },
    {
     "data": {
      "text/plain": [
       "<tensorflow.python.keras.callbacks.History at 0x7f2e5a4e2150>"
      ]
     },
     "execution_count": 8,
     "metadata": {},
     "output_type": "execute_result"
    }
   ],
   "source": [
    "happy_model.fit(X_train, Y_train, epochs=10, batch_size=16)"
   ]
  },
  {
   "cell_type": "markdown",
   "metadata": {},
   "source": [
    "After that completes, just use `.evaluate()` to evaluate against your test set. This function will print the value of the loss function and the performance metrics specified during the compilation of the model. In this case, the `binary_crossentropy` and the `accuracy` respectively."
   ]
  },
  {
   "cell_type": "code",
   "execution_count": 9,
   "metadata": {},
   "outputs": [
    {
     "name": "stdout",
     "output_type": "stream",
     "text": [
      "5/5 [==============================] - 0s 28ms/step - loss: 0.1034 - accuracy: 0.9667\n"
     ]
    },
    {
     "data": {
      "text/plain": [
       "[0.10342031717300415, 0.9666666388511658]"
      ]
     },
     "execution_count": 9,
     "metadata": {},
     "output_type": "execute_result"
    }
   ],
   "source": [
    "happy_model.evaluate(X_test, Y_test)"
   ]
  },
  {
   "cell_type": "markdown",
   "metadata": {},
   "source": [
    "Easy, right? But what if you need to build a model with shared layers, branches, or multiple inputs and outputs? This is where Sequential, with its beautifully simple yet limited functionality, won't be able to help you. \n",
    "\n",
    "Next up: Enter the Functional API, your slightly more complex, highly flexible friend.  "
   ]
  },
  {
   "cell_type": "markdown",
   "metadata": {},
   "source": [
    "<a name='4'></a>\n",
    "## 4 - The Functional API"
   ]
  },
  {
   "cell_type": "markdown",
   "metadata": {},
   "source": [
    "Welcome to the second half of the assignment, where you'll use Keras' flexible [Functional API](https://www.tensorflow.org/guide/keras/functional) to build a ConvNet that can differentiate between 6 sign language digits. \n",
    "\n",
    "The Functional API can handle models with non-linear topology, shared layers, as well as layers with multiple inputs or outputs. Imagine that, where the Sequential API requires the model to move in a linear fashion through its layers, the Functional API allows much more flexibility. Where Sequential is a straight line, a Functional model is a graph, where the nodes of the layers can connect in many more ways than one. \n",
    "\n",
    "In the visual example below, the one possible direction of the movement Sequential model is shown in contrast to a skip connection, which is just one of the many ways a Functional model can be constructed. A skip connection, as you might have guessed, skips some layer in the network and feeds the output to a later layer in the network. Don't worry, you'll be spending more time with skip connections very soon! "
   ]
  },
  {
   "cell_type": "markdown",
   "metadata": {},
   "source": [
    "<img src=\"images/seq_vs_func.png\" style=\"width:350px;height:200px;\">"
   ]
  },
  {
   "cell_type": "markdown",
   "metadata": {},
   "source": [
    "<a name='4-1'></a>\n",
    "### 4.1 - Load the SIGNS Dataset\n",
    "\n",
    "As a reminder, the SIGNS dataset is a collection of 6 signs representing numbers from 0 to 5."
   ]
  },
  {
   "cell_type": "code",
   "execution_count": 10,
   "metadata": {},
   "outputs": [],
   "source": [
    "# Loading the data (signs)\n",
    "X_train_orig, Y_train_orig, X_test_orig, Y_test_orig, classes = load_signs_dataset()"
   ]
  },
  {
   "cell_type": "markdown",
   "metadata": {},
   "source": [
    "<img src=\"images/SIGNS.png\" style=\"width:800px;height:300px;\">\n",
    "\n",
    "The next cell will show you an example of a labelled image in the dataset. Feel free to change the value of `index` below and re-run to see different examples. "
   ]
  },
  {
   "cell_type": "code",
   "execution_count": 11,
   "metadata": {},
   "outputs": [
    {
     "name": "stdout",
     "output_type": "stream",
     "text": [
      "y = 4\n"
     ]
    },
    {
     "data": {
      "image/png": "[encoded data removed]",
      "text/plain": [
       "<Figure size 432x288 with 1 Axes>"
      ]
     },
     "metadata": {
      "needs_background": "light"
     },
     "output_type": "display_data"
    }
   ],
   "source": [
    "# Example of an image from the dataset\n",
    "index = 9\n",
    "plt.imshow(X_train_orig[index])\n",
    "print (\"y = \" + str(np.squeeze(Y_train_orig[:, index])))"
   ]
  },
  {
   "cell_type": "markdown",
   "metadata": {},
   "source": [
    "<a name='4-2'></a>\n",
    "### 4.2 - Split the Data into Train/Test Sets\n",
    "\n",
    "In Course 2, you built a fully-connected network for this dataset. But since this is an image dataset, it is more natural to apply a ConvNet to it.\n",
    "\n",
    "To get started, let's examine the shapes of your data. "
   ]
  },
  {
   "cell_type": "code",
   "execution_count": 12,
   "metadata": {},
   "outputs": [
    {
     "name": "stdout",
     "output_type": "stream",
     "text": [
      "number of training examples = 1080\n",
      "number of test examples = 120\n",
      "X_train shape: (1080, 64, 64, 3)\n",
      "Y_train shape: (1080, 6)\n",
      "X_test shape: (120, 64, 64, 3)\n",
      "Y_test shape: (120, 6)\n"
     ]
    }
   ],
   "source": [
    "X_train = X_train_orig/255.\n",
    "X_test = X_test_orig/255.\n",
    "Y_train = convert_to_one_hot(Y_train_orig, 6).T\n",
    "Y_test = convert_to_one_hot(Y_test_orig, 6).T\n",
    "print (\"number of training examples = \" + str(X_train.shape[0]))\n",
    "print (\"number of test examples = \" + str(X_test.shape[0]))\n",
    "print (\"X_train shape: \" + str(X_train.shape))\n",
    "print (\"Y_train shape: \" + str(Y_train.shape))\n",
    "print (\"X_test shape: \" + str(X_test.shape))\n",
    "print (\"Y_test shape: \" + str(Y_test.shape))"
   ]
  },
  {
   "cell_type": "markdown",
   "metadata": {},
   "source": [
    "<a name='4-3'></a>\n",
    "### 4.3 - Forward Propagation\n",
    "\n",
    "In TensorFlow, there are built-in functions that implement the convolution steps for you. By now, you should be familiar with how TensorFlow builds computational graphs. In the [Functional API](https://www.tensorflow.org/guide/keras/functional), you create a graph of layers. This is what allows such great flexibility.\n",
    "\n",
    "However, the following model could also be defined using the Sequential API since the information flow is on a single line. But don't deviate. What we want you to learn is to use the functional API.\n",
    "\n",
    "Begin building your graph of layers by creating an input node that functions as a callable object:\n",
    "\n",
    "- **input_img = tf.keras.Input(shape=input_shape):** \n",
    "\n",
    "Then, create a new node in the graph of layers by calling a layer on the `input_img` object: \n",
    "\n",
    "- **tf.keras.layers.Conv2D(filters= ... , kernel_size= ... , padding='same')(input_img):** Read the full documentation on [Conv2D](https://www.tensorflow.org/api_docs/python/tf/keras/layers/Conv2D).\n",
    "\n",
    "- **tf.keras.layers.MaxPool2D(pool_size=(f, f), strides=(s, s), padding='same'):** `MaxPool2D()` downsamples your input using a window of size (f, f) and strides of size (s, s) to carry out max pooling over each window.  For max pooling, you usually operate on a single example at a time and a single channel at a time. Read the full documentation on [MaxPool2D](https://www.tensorflow.org/api_docs/python/tf/keras/layers/MaxPool2D).\n",
    "\n",
    "- **tf.keras.layers.ReLU():** computes the elementwise ReLU of Z (which can be any shape). You can read the full documentation on [ReLU](https://www.tensorflow.org/api_docs/python/tf/keras/layers/ReLU).\n",
    "\n",
    "- **tf.keras.layers.Flatten()**: given a tensor \"P\", this function takes each training (or test) example in the batch and flattens it into a 1D vector.  \n",
    "\n",
    "    * If a tensor P has the shape (batch_size,h,w,c), it returns a flattened tensor with shape (batch_size, k), where $k=h \\times w \\times c$.  \"k\" equals the product of all the dimension sizes other than the first dimension.\n",
    "    \n",
    "    * For example, given a tensor with dimensions [100, 2, 3, 4], it flattens the tensor to be of shape [100, 24], where 24 = 2 * 3 * 4.  You can read the full documentation on [Flatten](https://www.tensorflow.org/api_docs/python/tf/keras/layers/Flatten).\n",
    "\n",
    "- **tf.keras.layers.Dense(units= ... , activation='softmax')(F):** given the flattened input F, it returns the output computed using a fully connected layer. You can read the full documentation on [Dense](https://www.tensorflow.org/api_docs/python/tf/keras/layers/Dense).\n",
    "\n",
    "In the last function above (`tf.keras.layers.Dense()`), the fully connected layer automatically initializes weights in the graph and keeps on training them as you train the model. Hence, you did not need to initialize those weights when initializing the parameters.\n",
    "\n",
    "Lastly, before creating the model, you'll need to define the output using the last of the function's compositions (in this example, a Dense layer): \n",
    "\n",
    "- **outputs = tf.keras.layers.Dense(units=6, activation='softmax')(F)**\n",
    "\n",
    "\n",
    "#### Window, kernel, filter, pool\n",
    "\n",
    "The words \"kernel\" and \"filter\" are used to refer to the same thing. The word \"filter\" accounts for the amount of \"kernels\" that will be used in a single convolution layer. \"Pool\" is the name of the operation that takes the max or average value of the kernels. \n",
    "\n",
    "This is why the parameter `pool_size` refers to `kernel_size`, and you use `(f,f)` to refer to the filter size. \n",
    "\n",
    "Pool size and kernel size refer to the same thing in different objects - They refer to the shape of the window where the operation takes place. "
   ]
  },
  {
   "cell_type": "markdown",
   "metadata": {},
   "source": [
    "<a name='ex-2'></a>\n",
    "### Exercise 2 - convolutional_model\n",
    "\n",
    "Implement the `convolutional_model` function below to build the following model: `CONV2D -> RELU -> MAXPOOL -> CONV2D -> RELU -> MAXPOOL -> FLATTEN -> DENSE`. Use the functions above! \n",
    "\n",
    "Also, plug in the following parameters for all the steps:\n",
    "\n",
    " - [Conv2D](https://www.tensorflow.org/api_docs/python/tf/keras/layers/Conv2D): Use 8 4 by 4 filters, stride 1, padding is \"SAME\"\n",
    " - [ReLU](https://www.tensorflow.org/api_docs/python/tf/keras/layers/ReLU)\n",
    " - [MaxPool2D](https://www.tensorflow.org/api_docs/python/tf/keras/layers/MaxPool2D): Use an 8 by 8 filter size and an 8 by 8 stride, padding is \"SAME\"\n",
    " - **Conv2D**: Use 16 2 by 2 filters, stride 1, padding is \"SAME\"\n",
    " - **ReLU**\n",
    " - **MaxPool2D**: Use a 4 by 4 filter size and a 4 by 4 stride, padding is \"SAME\"\n",
    " - [Flatten](https://www.tensorflow.org/api_docs/python/tf/keras/layers/Flatten) the previous output.\n",
    " - Fully-connected ([Dense](https://www.tensorflow.org/api_docs/python/tf/keras/layers/Dense)) layer: Apply a fully connected layer with 6 neurons and a softmax activation. "
   ]
  },
  {
   "cell_type": "code",
   "execution_count": 15,
   "metadata": {
    "deletable": false,
    "nbgrader": {
     "cell_type": "code",
     "checksum": "f58643806aa8380c96225fc8b4c5e7aa",
     "grade": false,
     "grade_id": "cell-dac51744a9e03f51",
     "locked": false,
     "schema_version": 3,
     "solution": true,
     "task": false
    }
   },
   "outputs": [],
   "source": [
    "# GRADED FUNCTION: convolutional_model\n",
    "\n",
    "def convolutional_model(input_shape):\n",
    "    \"\"\"\n",
    "    Implements the forward propagation for the model:\n",
    "    CONV2D -> RELU -> MAXPOOL -> CONV2D -> RELU -> MAXPOOL -> FLATTEN -> DENSE\n",
    "    \n",
    "    Note that for simplicity and grading purposes, you'll hard-code some values\n",
    "    such as the stride and kernel (filter) sizes. \n",
    "    Normally, functions should take these values as function parameters.\n",
    "    \n",
    "    Arguments:\n",
    "    input_img -- input dataset, of shape (input_shape)\n",
    "\n",
    "    Returns:\n",
    "    model -- TF Keras model (object containing the information for the entire training process) \n",
    "    \"\"\"\n",
    "\n",
    "    input_img = tf.keras.Input(shape=input_shape)\n",
    "    # YOUR CODE STARTS HERE\n",
    "    \n",
    "    ## CONV2D: 8 filters 4x4, stride of 1, padding 'SAME'\n",
    "    Z1 = tfl.Conv2D(filters= 8. , kernel_size=4 , padding='same',strides=1)(input_img)\n",
    "    ## RELU\n",
    "    A1 = tfl.ReLU()(Z1)\n",
    "    ## MAXPOOL: window 8x8, stride 8, padding 'SAME'\n",
    "    P1 = tfl.MaxPool2D(pool_size=8, strides=8, padding='SAME')(A1)\n",
    "    ## CONV2D: 16 filters 2x2, stride 1, padding 'SAME'\n",
    "    Z2 = tfl.Conv2D(filters= 16. , kernel_size=2 , padding='same',strides=1)(P1)\n",
    "    ## RELU\n",
    "    A2 = tfl.ReLU()(Z2)\n",
    "    ## MAXPOOL: window 4x4, stride 4, padding 'SAME'\n",
    "    P2 = tfl.MaxPool2D(pool_size=4, strides=4, padding='SAME')(A2)\n",
    "    ## FLATTEN\n",
    "    F = tfl.Flatten()(P2)\n",
    "    ## Dense layer\n",
    "    ## 6 neurons in output layer. Hint: one of the arguments should be \"activation='softmax'\" \n",
    "    outputs = tfl.Dense(units= 6 , activation='softmax')(F)\n",
    "    model = tf.keras.Model(inputs=input_img, outputs=outputs)\n",
    "    \n",
    "    \n",
    "    # YOUR CODE ENDS HERE\n",
    "    model = tf.keras.Model(inputs=input_img, outputs=outputs)\n",
    "    return model"
   ]
  },
  {
   "cell_type": "code",
   "execution_count": 16,
   "metadata": {
    "deletable": false,
    "editable": false,
    "nbgrader": {
     "cell_type": "code",
     "checksum": "483d626949930a0b0ef20997e7c6ba72",
     "grade": true,
     "grade_id": "cell-45d22e92042174c9",
     "locked": true,
     "points": 10,
     "schema_version": 3,
     "solution": false,
     "task": false
    }
   },
   "outputs": [
    {
     "name": "stdout",
     "output_type": "stream",
     "text": [
      "Model: \"functional_4\"\n",
      "_________________________________________________________________\n",
      "Layer (type)                 Output Shape              Param #   \n",
      "=================================================================\n",
      "input_3 (InputLayer)         [(None, 64, 64, 3)]       0         \n",
      "_________________________________________________________________\n",
      "conv2d_3 (Conv2D)            (None, 64, 64, 8)         392       \n",
      "_________________________________________________________________\n",
      "re_lu_3 (ReLU)               (None, 64, 64, 8)         0         \n",
      "_________________________________________________________________\n",
      "max_pooling2d_3 (MaxPooling2 (None, 8, 8, 8)           0         \n",
      "_________________________________________________________________\n",
      "conv2d_4 (Conv2D)            (None, 8, 8, 16)          528       \n",
      "_________________________________________________________________\n",
      "re_lu_4 (ReLU)               (None, 8, 8, 16)          0         \n",
      "_________________________________________________________________\n",
      "max_pooling2d_4 (MaxPooling2 (None, 2, 2, 16)          0         \n",
      "_________________________________________________________________\n",
      "flatten_2 (Flatten)          (None, 64)                0         \n",
      "_________________________________________________________________\n",
      "dense_1 (Dense)              (None, 6)                 390       \n",
      "=================================================================\n",
      "Total params: 1,310\n",
      "Trainable params: 1,310\n",
      "Non-trainable params: 0\n",
      "_________________________________________________________________\n",
      "\u001b[32mAll tests passed!\u001b[0m\n"
     ]
    }
   ],
   "source": [
    "conv_model = convolutional_model((64, 64, 3))\n",
    "conv_model.compile(optimizer='adam',\n",
    "                  loss='categorical_crossentropy',\n",
    "                  metrics=['accuracy'])\n",
    "conv_model.summary()\n",
    "    \n",
    "output = [['InputLayer', [(None, 64, 64, 3)], 0],\n",
    "        ['Conv2D', (None, 64, 64, 8), 392, 'same', 'linear', 'GlorotUniform'],\n",
    "        ['ReLU', (None, 64, 64, 8), 0],\n",
    "        ['MaxPooling2D', (None, 8, 8, 8), 0, (8, 8), (8, 8), 'same'],\n",
    "        ['Conv2D', (None, 8, 8, 16), 528, 'same', 'linear', 'GlorotUniform'],\n",
    "        ['ReLU', (None, 8, 8, 16), 0],\n",
    "        ['MaxPooling2D', (None, 2, 2, 16), 0, (4, 4), (4, 4), 'same'],\n",
    "        ['Flatten', (None, 64), 0],\n",
    "        ['Dense', (None, 6), 390, 'softmax']]\n",
    "    \n",
    "comparator(summary(conv_model), output)"
   ]
  },
  {
   "cell_type": "markdown",
   "metadata": {},
   "source": [
    "Both the Sequential and Functional APIs return a TF Keras model object. The only difference is how inputs are handled inside the object model! "
   ]
  },
  {
   "cell_type": "markdown",
   "metadata": {},
   "source": [
    "<a name='4-4'></a>\n",
    "### 4.4 - Train the Model"
   ]
  },
  {
   "cell_type": "code",
   "execution_count": 17,
   "metadata": {},
   "outputs": [
    {
     "name": "stdout",
     "output_type": "stream",
     "text": [
      "Epoch 1/100\n",
      "17/17 [==============================] - 2s 107ms/step - loss: 1.7917 - accuracy: 0.1787 - val_loss: 1.7807 - val_accuracy: 0.2583\n",
      "Epoch 2/100\n",
      "17/17 [==============================] - 2s 106ms/step - loss: 1.7848 - accuracy: 0.2231 - val_loss: 1.7745 - val_accuracy: 0.2833\n",
      "Epoch 3/100\n",
      "17/17 [==============================] - 2s 106ms/step - loss: 1.7793 - accuracy: 0.2574 - val_loss: 1.7706 - val_accuracy: 0.4000\n",
      "Epoch 4/100\n",
      "17/17 [==============================] - 2s 106ms/step - loss: 1.7747 - accuracy: 0.2704 - val_loss: 1.7657 - val_accuracy: 0.3500\n",
      "Epoch 5/100\n",
      "17/17 [==============================] - 2s 106ms/step - loss: 1.7700 - accuracy: 0.2750 - val_loss: 1.7606 - val_accuracy: 0.3833\n",
      "Epoch 6/100\n",
      "17/17 [==============================] - 2s 106ms/step - loss: 1.7649 - accuracy: 0.2907 - val_loss: 1.7540 - val_accuracy: 0.3833\n",
      "Epoch 7/100\n",
      "17/17 [==============================] - 2s 106ms/step - loss: 1.7566 - accuracy: 0.3120 - val_loss: 1.7455 - val_accuracy: 0.3833\n",
      "Epoch 8/100\n",
      "17/17 [==============================] - 2s 102ms/step - loss: 1.7486 - accuracy: 0.3259 - val_loss: 1.7364 - val_accuracy: 0.3583\n",
      "Epoch 9/100\n",
      "17/17 [==============================] - 2s 106ms/step - loss: 1.7384 - accuracy: 0.3472 - val_loss: 1.7259 - val_accuracy: 0.4000\n",
      "Epoch 10/100\n",
      "17/17 [==============================] - 2s 111ms/step - loss: 1.7265 - accuracy: 0.3648 - val_loss: 1.7143 - val_accuracy: 0.3917\n",
      "Epoch 11/100\n",
      "17/17 [==============================] - 2s 106ms/step - loss: 1.7140 - accuracy: 0.3704 - val_loss: 1.6981 - val_accuracy: 0.4417\n",
      "Epoch 12/100\n",
      "17/17 [==============================] - 2s 106ms/step - loss: 1.6974 - accuracy: 0.3944 - val_loss: 1.6809 - val_accuracy: 0.4417\n",
      "Epoch 13/100\n",
      "17/17 [==============================] - 2s 101ms/step - loss: 1.6807 - accuracy: 0.3954 - val_loss: 1.6610 - val_accuracy: 0.4500\n",
      "Epoch 14/100\n",
      "17/17 [==============================] - 2s 106ms/step - loss: 1.6609 - accuracy: 0.4167 - val_loss: 1.6386 - val_accuracy: 0.4500\n",
      "Epoch 15/100\n",
      "17/17 [==============================] - 2s 106ms/step - loss: 1.6393 - accuracy: 0.4269 - val_loss: 1.6138 - val_accuracy: 0.4000\n",
      "Epoch 16/100\n",
      "17/17 [==============================] - 2s 101ms/step - loss: 1.6140 - accuracy: 0.4194 - val_loss: 1.5904 - val_accuracy: 0.4333\n",
      "Epoch 17/100\n",
      "17/17 [==============================] - 2s 106ms/step - loss: 1.5887 - accuracy: 0.4380 - val_loss: 1.5618 - val_accuracy: 0.4417\n",
      "Epoch 18/100\n",
      "17/17 [==============================] - 2s 111ms/step - loss: 1.5596 - accuracy: 0.4491 - val_loss: 1.5298 - val_accuracy: 0.4583\n",
      "Epoch 19/100\n",
      "17/17 [==============================] - 2s 106ms/step - loss: 1.5229 - accuracy: 0.4537 - val_loss: 1.4967 - val_accuracy: 0.4417\n",
      "Epoch 20/100\n",
      "17/17 [==============================] - 2s 106ms/step - loss: 1.4855 - accuracy: 0.4759 - val_loss: 1.4611 - val_accuracy: 0.4583\n",
      "Epoch 21/100\n",
      "17/17 [==============================] - 2s 106ms/step - loss: 1.4488 - accuracy: 0.4685 - val_loss: 1.4262 - val_accuracy: 0.4500\n",
      "Epoch 22/100\n",
      "17/17 [==============================] - 2s 101ms/step - loss: 1.4057 - accuracy: 0.4815 - val_loss: 1.3907 - val_accuracy: 0.4917\n",
      "Epoch 23/100\n",
      "17/17 [==============================] - 2s 106ms/step - loss: 1.3627 - accuracy: 0.4981 - val_loss: 1.3492 - val_accuracy: 0.5083\n",
      "Epoch 24/100\n",
      "17/17 [==============================] - 2s 106ms/step - loss: 1.3242 - accuracy: 0.5120 - val_loss: 1.3126 - val_accuracy: 0.5250\n",
      "Epoch 25/100\n",
      "17/17 [==============================] - 2s 106ms/step - loss: 1.2842 - accuracy: 0.5333 - val_loss: 1.2722 - val_accuracy: 0.5667\n",
      "Epoch 26/100\n",
      "17/17 [==============================] - 2s 106ms/step - loss: 1.2450 - accuracy: 0.5565 - val_loss: 1.2368 - val_accuracy: 0.5917\n",
      "Epoch 27/100\n",
      "17/17 [==============================] - 2s 106ms/step - loss: 1.2088 - accuracy: 0.5676 - val_loss: 1.1998 - val_accuracy: 0.6000\n",
      "Epoch 28/100\n",
      "17/17 [==============================] - 2s 106ms/step - loss: 1.1750 - accuracy: 0.5861 - val_loss: 1.1684 - val_accuracy: 0.6417\n",
      "Epoch 29/100\n",
      "17/17 [==============================] - 2s 107ms/step - loss: 1.1405 - accuracy: 0.5944 - val_loss: 1.1343 - val_accuracy: 0.6500\n",
      "Epoch 30/100\n",
      "17/17 [==============================] - 2s 106ms/step - loss: 1.1092 - accuracy: 0.6111 - val_loss: 1.1052 - val_accuracy: 0.6500\n",
      "Epoch 31/100\n",
      "17/17 [==============================] - 2s 106ms/step - loss: 1.0810 - accuracy: 0.6139 - val_loss: 1.0769 - val_accuracy: 0.6667\n",
      "Epoch 32/100\n",
      "17/17 [==============================] - 2s 101ms/step - loss: 1.0528 - accuracy: 0.6176 - val_loss: 1.0489 - val_accuracy: 0.6750\n",
      "Epoch 33/100\n",
      "17/17 [==============================] - 2s 106ms/step - loss: 1.0278 - accuracy: 0.6241 - val_loss: 1.0237 - val_accuracy: 0.6750\n",
      "Epoch 34/100\n",
      "17/17 [==============================] - 2s 100ms/step - loss: 1.0029 - accuracy: 0.6352 - val_loss: 0.9997 - val_accuracy: 0.6667\n",
      "Epoch 35/100\n",
      "17/17 [==============================] - 2s 106ms/step - loss: 0.9799 - accuracy: 0.6472 - val_loss: 0.9764 - val_accuracy: 0.6667\n",
      "Epoch 36/100\n",
      "17/17 [==============================] - 2s 111ms/step - loss: 0.9581 - accuracy: 0.6537 - val_loss: 0.9554 - val_accuracy: 0.6583\n",
      "Epoch 37/100\n",
      "17/17 [==============================] - 2s 106ms/step - loss: 0.9360 - accuracy: 0.6685 - val_loss: 0.9345 - val_accuracy: 0.6667\n",
      "Epoch 38/100\n",
      "17/17 [==============================] - 2s 106ms/step - loss: 0.9168 - accuracy: 0.6750 - val_loss: 0.9163 - val_accuracy: 0.6750\n",
      "Epoch 39/100\n",
      "17/17 [==============================] - 2s 106ms/step - loss: 0.8972 - accuracy: 0.6843 - val_loss: 0.8988 - val_accuracy: 0.6667\n",
      "Epoch 40/100\n",
      "17/17 [==============================] - 2s 106ms/step - loss: 0.8791 - accuracy: 0.6935 - val_loss: 0.8807 - val_accuracy: 0.6833\n",
      "Epoch 41/100\n",
      "17/17 [==============================] - 2s 106ms/step - loss: 0.8624 - accuracy: 0.6981 - val_loss: 0.8657 - val_accuracy: 0.6833\n",
      "Epoch 42/100\n",
      "17/17 [==============================] - 2s 101ms/step - loss: 0.8456 - accuracy: 0.7074 - val_loss: 0.8497 - val_accuracy: 0.6917\n",
      "Epoch 43/100\n",
      "17/17 [==============================] - 2s 102ms/step - loss: 0.8306 - accuracy: 0.7167 - val_loss: 0.8371 - val_accuracy: 0.7000\n",
      "Epoch 44/100\n",
      "17/17 [==============================] - 2s 106ms/step - loss: 0.8143 - accuracy: 0.7241 - val_loss: 0.8217 - val_accuracy: 0.7083\n",
      "Epoch 45/100\n",
      "17/17 [==============================] - 2s 106ms/step - loss: 0.8014 - accuracy: 0.7306 - val_loss: 0.8085 - val_accuracy: 0.7083\n",
      "Epoch 46/100\n",
      "17/17 [==============================] - 2s 106ms/step - loss: 0.7871 - accuracy: 0.7315 - val_loss: 0.7947 - val_accuracy: 0.7167\n",
      "Epoch 47/100\n",
      "17/17 [==============================] - 2s 102ms/step - loss: 0.7741 - accuracy: 0.7389 - val_loss: 0.7827 - val_accuracy: 0.7250\n",
      "Epoch 48/100\n",
      "17/17 [==============================] - 2s 106ms/step - loss: 0.7618 - accuracy: 0.7426 - val_loss: 0.7702 - val_accuracy: 0.7250\n",
      "Epoch 49/100\n",
      "17/17 [==============================] - 2s 106ms/step - loss: 0.7501 - accuracy: 0.7463 - val_loss: 0.7593 - val_accuracy: 0.7250\n",
      "Epoch 50/100\n",
      "17/17 [==============================] - 2s 107ms/step - loss: 0.7386 - accuracy: 0.7528 - val_loss: 0.7482 - val_accuracy: 0.7250\n",
      "Epoch 51/100\n",
      "17/17 [==============================] - 2s 106ms/step - loss: 0.7281 - accuracy: 0.7565 - val_loss: 0.7384 - val_accuracy: 0.7250\n",
      "Epoch 52/100\n",
      "17/17 [==============================] - 2s 106ms/step - loss: 0.7176 - accuracy: 0.7556 - val_loss: 0.7292 - val_accuracy: 0.7250\n",
      "Epoch 53/100\n",
      "17/17 [==============================] - 2s 106ms/step - loss: 0.7077 - accuracy: 0.7648 - val_loss: 0.7195 - val_accuracy: 0.7250\n",
      "Epoch 54/100\n",
      "17/17 [==============================] - 2s 106ms/step - loss: 0.6983 - accuracy: 0.7639 - val_loss: 0.7118 - val_accuracy: 0.7333\n",
      "Epoch 55/100\n",
      "17/17 [==============================] - 2s 106ms/step - loss: 0.6889 - accuracy: 0.7676 - val_loss: 0.7033 - val_accuracy: 0.7417\n",
      "Epoch 56/100\n",
      "17/17 [==============================] - 2s 106ms/step - loss: 0.6803 - accuracy: 0.7694 - val_loss: 0.6959 - val_accuracy: 0.7417\n",
      "Epoch 57/100\n",
      "17/17 [==============================] - 2s 107ms/step - loss: 0.6718 - accuracy: 0.7713 - val_loss: 0.6883 - val_accuracy: 0.7417\n"
     ]
    },
    {
     "name": "stdout",
     "output_type": "stream",
     "text": [
      "Epoch 58/100\n",
      "17/17 [==============================] - 2s 106ms/step - loss: 0.6640 - accuracy: 0.7759 - val_loss: 0.6809 - val_accuracy: 0.7417\n",
      "Epoch 59/100\n",
      "17/17 [==============================] - 2s 111ms/step - loss: 0.6562 - accuracy: 0.7778 - val_loss: 0.6736 - val_accuracy: 0.7417\n",
      "Epoch 60/100\n",
      "17/17 [==============================] - 2s 106ms/step - loss: 0.6487 - accuracy: 0.7815 - val_loss: 0.6662 - val_accuracy: 0.7417\n",
      "Epoch 61/100\n",
      "17/17 [==============================] - 2s 111ms/step - loss: 0.6419 - accuracy: 0.7870 - val_loss: 0.6594 - val_accuracy: 0.7417\n",
      "Epoch 62/100\n",
      "17/17 [==============================] - 2s 106ms/step - loss: 0.6343 - accuracy: 0.7889 - val_loss: 0.6525 - val_accuracy: 0.7417\n",
      "Epoch 63/100\n",
      "17/17 [==============================] - 2s 106ms/step - loss: 0.6277 - accuracy: 0.7898 - val_loss: 0.6466 - val_accuracy: 0.7417\n",
      "Epoch 64/100\n",
      "17/17 [==============================] - 2s 106ms/step - loss: 0.6215 - accuracy: 0.7926 - val_loss: 0.6411 - val_accuracy: 0.7417\n",
      "Epoch 65/100\n",
      "17/17 [==============================] - 2s 106ms/step - loss: 0.6148 - accuracy: 0.7935 - val_loss: 0.6353 - val_accuracy: 0.7417\n",
      "Epoch 66/100\n",
      "17/17 [==============================] - 2s 106ms/step - loss: 0.6087 - accuracy: 0.7926 - val_loss: 0.6296 - val_accuracy: 0.7500\n",
      "Epoch 67/100\n",
      "17/17 [==============================] - 2s 106ms/step - loss: 0.6030 - accuracy: 0.7972 - val_loss: 0.6238 - val_accuracy: 0.7500\n",
      "Epoch 68/100\n",
      "17/17 [==============================] - 2s 106ms/step - loss: 0.5970 - accuracy: 0.7944 - val_loss: 0.6192 - val_accuracy: 0.7500\n",
      "Epoch 69/100\n",
      "17/17 [==============================] - 2s 106ms/step - loss: 0.5915 - accuracy: 0.7991 - val_loss: 0.6135 - val_accuracy: 0.7500\n",
      "Epoch 70/100\n",
      "17/17 [==============================] - 2s 106ms/step - loss: 0.5862 - accuracy: 0.7991 - val_loss: 0.6087 - val_accuracy: 0.7500\n",
      "Epoch 71/100\n",
      "17/17 [==============================] - 2s 101ms/step - loss: 0.5811 - accuracy: 0.8028 - val_loss: 0.6035 - val_accuracy: 0.7500\n",
      "Epoch 72/100\n",
      "17/17 [==============================] - 2s 106ms/step - loss: 0.5758 - accuracy: 0.8065 - val_loss: 0.5993 - val_accuracy: 0.7500\n",
      "Epoch 73/100\n",
      "17/17 [==============================] - 2s 107ms/step - loss: 0.5710 - accuracy: 0.8083 - val_loss: 0.5937 - val_accuracy: 0.7500\n",
      "Epoch 74/100\n",
      "17/17 [==============================] - 2s 106ms/step - loss: 0.5658 - accuracy: 0.8093 - val_loss: 0.5901 - val_accuracy: 0.7500\n",
      "Epoch 75/100\n",
      "17/17 [==============================] - 2s 105ms/step - loss: 0.5609 - accuracy: 0.8157 - val_loss: 0.5851 - val_accuracy: 0.7500\n",
      "Epoch 76/100\n",
      "17/17 [==============================] - 2s 106ms/step - loss: 0.5563 - accuracy: 0.8139 - val_loss: 0.5811 - val_accuracy: 0.7500\n",
      "Epoch 77/100\n",
      "17/17 [==============================] - 2s 106ms/step - loss: 0.5516 - accuracy: 0.8176 - val_loss: 0.5759 - val_accuracy: 0.7500\n",
      "Epoch 78/100\n",
      "17/17 [==============================] - 2s 106ms/step - loss: 0.5473 - accuracy: 0.8148 - val_loss: 0.5727 - val_accuracy: 0.7500\n",
      "Epoch 79/100\n",
      "17/17 [==============================] - 2s 111ms/step - loss: 0.5425 - accuracy: 0.8194 - val_loss: 0.5679 - val_accuracy: 0.7500\n",
      "Epoch 80/100\n",
      "17/17 [==============================] - 2s 106ms/step - loss: 0.5385 - accuracy: 0.8185 - val_loss: 0.5645 - val_accuracy: 0.7500\n",
      "Epoch 81/100\n",
      "17/17 [==============================] - 2s 106ms/step - loss: 0.5339 - accuracy: 0.8222 - val_loss: 0.5598 - val_accuracy: 0.7500\n",
      "Epoch 82/100\n",
      "17/17 [==============================] - 2s 106ms/step - loss: 0.5298 - accuracy: 0.8222 - val_loss: 0.5567 - val_accuracy: 0.7583\n",
      "Epoch 83/100\n",
      "17/17 [==============================] - 2s 106ms/step - loss: 0.5254 - accuracy: 0.8269 - val_loss: 0.5525 - val_accuracy: 0.7583\n",
      "Epoch 84/100\n",
      "17/17 [==============================] - 2s 106ms/step - loss: 0.5213 - accuracy: 0.8250 - val_loss: 0.5492 - val_accuracy: 0.7583\n",
      "Epoch 85/100\n",
      "17/17 [==============================] - 2s 101ms/step - loss: 0.5171 - accuracy: 0.8296 - val_loss: 0.5443 - val_accuracy: 0.7667\n",
      "Epoch 86/100\n",
      "17/17 [==============================] - 2s 106ms/step - loss: 0.5128 - accuracy: 0.8287 - val_loss: 0.5417 - val_accuracy: 0.7583\n",
      "Epoch 87/100\n",
      "17/17 [==============================] - 2s 106ms/step - loss: 0.5090 - accuracy: 0.8296 - val_loss: 0.5374 - val_accuracy: 0.7667\n",
      "Epoch 88/100\n",
      "17/17 [==============================] - 2s 101ms/step - loss: 0.5049 - accuracy: 0.8315 - val_loss: 0.5348 - val_accuracy: 0.7667\n",
      "Epoch 89/100\n",
      "17/17 [==============================] - 2s 106ms/step - loss: 0.5014 - accuracy: 0.8296 - val_loss: 0.5325 - val_accuracy: 0.7667\n",
      "Epoch 90/100\n",
      "17/17 [==============================] - 2s 111ms/step - loss: 0.4974 - accuracy: 0.8333 - val_loss: 0.5296 - val_accuracy: 0.7667\n",
      "Epoch 91/100\n",
      "17/17 [==============================] - 2s 106ms/step - loss: 0.4938 - accuracy: 0.8343 - val_loss: 0.5269 - val_accuracy: 0.7583\n",
      "Epoch 92/100\n",
      "17/17 [==============================] - 2s 106ms/step - loss: 0.4900 - accuracy: 0.8343 - val_loss: 0.5243 - val_accuracy: 0.7583\n",
      "Epoch 93/100\n",
      "17/17 [==============================] - 2s 101ms/step - loss: 0.4866 - accuracy: 0.8380 - val_loss: 0.5222 - val_accuracy: 0.7667\n",
      "Epoch 94/100\n",
      "17/17 [==============================] - 2s 106ms/step - loss: 0.4830 - accuracy: 0.8389 - val_loss: 0.5198 - val_accuracy: 0.7667\n",
      "Epoch 95/100\n",
      "17/17 [==============================] - 2s 106ms/step - loss: 0.4795 - accuracy: 0.8398 - val_loss: 0.5181 - val_accuracy: 0.7750\n",
      "Epoch 96/100\n",
      "17/17 [==============================] - 2s 106ms/step - loss: 0.4759 - accuracy: 0.8407 - val_loss: 0.5155 - val_accuracy: 0.7917\n",
      "Epoch 97/100\n",
      "17/17 [==============================] - 2s 106ms/step - loss: 0.4725 - accuracy: 0.8435 - val_loss: 0.5142 - val_accuracy: 0.7917\n",
      "Epoch 98/100\n",
      "17/17 [==============================] - 2s 106ms/step - loss: 0.4691 - accuracy: 0.8481 - val_loss: 0.5138 - val_accuracy: 0.8000\n",
      "Epoch 99/100\n",
      "17/17 [==============================] - 2s 106ms/step - loss: 0.4659 - accuracy: 0.8463 - val_loss: 0.5123 - val_accuracy: 0.7917\n",
      "Epoch 100/100\n",
      "17/17 [==============================] - 2s 106ms/step - loss: 0.4623 - accuracy: 0.8472 - val_loss: 0.5112 - val_accuracy: 0.8000\n"
     ]
    }
   ],
   "source": [
    "train_dataset = tf.data.Dataset.from_tensor_slices((X_train, Y_train)).batch(64)\n",
    "test_dataset = tf.data.Dataset.from_tensor_slices((X_test, Y_test)).batch(64)\n",
    "history = conv_model.fit(train_dataset, epochs=100, validation_data=test_dataset)"
   ]
  },
  {
   "cell_type": "markdown",
   "metadata": {},
   "source": [
    "<a name='5'></a>\n",
    "## 5 - History Object \n",
    "\n",
    "The history object is an output of the `.fit()` operation, and provides a record of all the loss and metric values in memory. It's stored as a dictionary that you can retrieve at `history.history`: "
   ]
  },
  {
   "cell_type": "code",
   "execution_count": 18,
   "metadata": {},
   "outputs": [
    {
     "data": {
      "text/plain": [
       "{'loss': [1.7917264699935913,\n",
       "  1.784769058227539,\n",
       "  1.779305338859558,\n",
       "  1.774661660194397,\n",
       "  1.770035982131958,\n",
       "  1.7648955583572388,\n",
       "  1.7565947771072388,\n",
       "  1.7486398220062256,\n",
       "  1.738396406173706,\n",
       "  1.7265390157699585,\n",
       "  1.7139766216278076,\n",
       "  1.697427749633789,\n",
       "  1.6806848049163818,\n",
       "  1.6608614921569824,\n",
       "  1.639280915260315,\n",
       "  1.6140087842941284,\n",
       "  1.5886950492858887,\n",
       "  1.559627652168274,\n",
       "  1.5228911638259888,\n",
       "  1.4855238199234009,\n",
       "  1.448848009109497,\n",
       "  1.405666470527649,\n",
       "  1.3627088069915771,\n",
       "  1.324194312095642,\n",
       "  1.2841708660125732,\n",
       "  1.2449970245361328,\n",
       "  1.2088472843170166,\n",
       "  1.1750105619430542,\n",
       "  1.1404869556427002,\n",
       "  1.1092491149902344,\n",
       "  1.0809564590454102,\n",
       "  1.0527864694595337,\n",
       "  1.0278422832489014,\n",
       "  1.0029492378234863,\n",
       "  0.979882001876831,\n",
       "  0.9581271409988403,\n",
       "  0.9359776377677917,\n",
       "  0.9167562127113342,\n",
       "  0.8971744179725647,\n",
       "  0.8790746331214905,\n",
       "  0.8623831868171692,\n",
       "  0.845648467540741,\n",
       "  0.830562949180603,\n",
       "  0.8143330812454224,\n",
       "  0.8013682961463928,\n",
       "  0.787129282951355,\n",
       "  0.7741154432296753,\n",
       "  0.7617824077606201,\n",
       "  0.7501152157783508,\n",
       "  0.738558828830719,\n",
       "  0.728060781955719,\n",
       "  0.7175525426864624,\n",
       "  0.7077258229255676,\n",
       "  0.6982513666152954,\n",
       "  0.6889194846153259,\n",
       "  0.6802656650543213,\n",
       "  0.6718044281005859,\n",
       "  0.6639934182167053,\n",
       "  0.6562337279319763,\n",
       "  0.6486636400222778,\n",
       "  0.6419366598129272,\n",
       "  0.6343171000480652,\n",
       "  0.6276627779006958,\n",
       "  0.6215131282806396,\n",
       "  0.6147626638412476,\n",
       "  0.6086927652359009,\n",
       "  0.6029890775680542,\n",
       "  0.5970261096954346,\n",
       "  0.5914884209632874,\n",
       "  0.5861635804176331,\n",
       "  0.5811184644699097,\n",
       "  0.5758299231529236,\n",
       "  0.5709735751152039,\n",
       "  0.5657539367675781,\n",
       "  0.5609486699104309,\n",
       "  0.5563363432884216,\n",
       "  0.5516162514686584,\n",
       "  0.5472610592842102,\n",
       "  0.5425159931182861,\n",
       "  0.5384908318519592,\n",
       "  0.5339463949203491,\n",
       "  0.5298184156417847,\n",
       "  0.5254318118095398,\n",
       "  0.5213109850883484,\n",
       "  0.517143189907074,\n",
       "  0.5127950310707092,\n",
       "  0.5089966654777527,\n",
       "  0.5048664212226868,\n",
       "  0.5013665556907654,\n",
       "  0.49735450744628906,\n",
       "  0.4937650263309479,\n",
       "  0.4899790585041046,\n",
       "  0.48663562536239624,\n",
       "  0.48299217224121094,\n",
       "  0.4794963002204895,\n",
       "  0.4759456515312195,\n",
       "  0.47253382205963135,\n",
       "  0.46908432245254517,\n",
       "  0.4658942222595215,\n",
       "  0.46230077743530273],\n",
       " 'accuracy': [0.17870371043682098,\n",
       "  0.2231481522321701,\n",
       "  0.25740739703178406,\n",
       "  0.27037036418914795,\n",
       "  0.2750000059604645,\n",
       "  0.2907407283782959,\n",
       "  0.31203705072402954,\n",
       "  0.32592591643333435,\n",
       "  0.3472222089767456,\n",
       "  0.364814817905426,\n",
       "  0.37037035822868347,\n",
       "  0.39444443583488464,\n",
       "  0.39537036418914795,\n",
       "  0.4166666567325592,\n",
       "  0.4268518388271332,\n",
       "  0.4194444417953491,\n",
       "  0.43796294927597046,\n",
       "  0.44907405972480774,\n",
       "  0.45370370149612427,\n",
       "  0.47592592239379883,\n",
       "  0.46851852536201477,\n",
       "  0.48148149251937866,\n",
       "  0.4981481432914734,\n",
       "  0.5120370388031006,\n",
       "  0.5333333611488342,\n",
       "  0.5564814805984497,\n",
       "  0.5675926208496094,\n",
       "  0.5861111283302307,\n",
       "  0.5944444537162781,\n",
       "  0.6111111044883728,\n",
       "  0.6138888597488403,\n",
       "  0.6175925731658936,\n",
       "  0.6240741014480591,\n",
       "  0.635185182094574,\n",
       "  0.6472222208976746,\n",
       "  0.6537036895751953,\n",
       "  0.6685185432434082,\n",
       "  0.675000011920929,\n",
       "  0.6842592358589172,\n",
       "  0.6935185194015503,\n",
       "  0.6981481313705444,\n",
       "  0.7074074149131775,\n",
       "  0.7166666388511658,\n",
       "  0.7240740656852722,\n",
       "  0.730555534362793,\n",
       "  0.7314814925193787,\n",
       "  0.7388888597488403,\n",
       "  0.7425925731658936,\n",
       "  0.7462962865829468,\n",
       "  0.7527777552604675,\n",
       "  0.7564814686775208,\n",
       "  0.7555555701255798,\n",
       "  0.7648147940635681,\n",
       "  0.7638888955116272,\n",
       "  0.7675926089286804,\n",
       "  0.769444465637207,\n",
       "  0.7712963223457336,\n",
       "  0.7759259343147278,\n",
       "  0.7777777910232544,\n",
       "  0.7814815044403076,\n",
       "  0.7870370149612427,\n",
       "  0.7888888716697693,\n",
       "  0.789814829826355,\n",
       "  0.7925925850868225,\n",
       "  0.7935185432434082,\n",
       "  0.7925925850868225,\n",
       "  0.7972221970558167,\n",
       "  0.7944444417953491,\n",
       "  0.7990740537643433,\n",
       "  0.7990740537643433,\n",
       "  0.8027777671813965,\n",
       "  0.8064814805984497,\n",
       "  0.8083333373069763,\n",
       "  0.8092592358589172,\n",
       "  0.8157407641410828,\n",
       "  0.8138889074325562,\n",
       "  0.8175926208496094,\n",
       "  0.8148148059844971,\n",
       "  0.8194444179534912,\n",
       "  0.8185185194015503,\n",
       "  0.8222222328186035,\n",
       "  0.8222222328186035,\n",
       "  0.8268518447875977,\n",
       "  0.824999988079071,\n",
       "  0.8296296000480652,\n",
       "  0.8287037014961243,\n",
       "  0.8296296000480652,\n",
       "  0.8314814567565918,\n",
       "  0.8296296000480652,\n",
       "  0.8333333134651184,\n",
       "  0.8342592716217041,\n",
       "  0.8342592716217041,\n",
       "  0.8379629850387573,\n",
       "  0.8388888835906982,\n",
       "  0.8398148417472839,\n",
       "  0.8407407402992249,\n",
       "  0.8435184955596924,\n",
       "  0.8481481671333313,\n",
       "  0.8462963104248047,\n",
       "  0.8472222089767456],\n",
       " 'val_loss': [1.780728816986084,\n",
       "  1.774530291557312,\n",
       "  1.7706137895584106,\n",
       "  1.7657407522201538,\n",
       "  1.76060950756073,\n",
       "  1.754008173942566,\n",
       "  1.7455253601074219,\n",
       "  1.7363630533218384,\n",
       "  1.7258503437042236,\n",
       "  1.7142963409423828,\n",
       "  1.6981427669525146,\n",
       "  1.680937647819519,\n",
       "  1.6609952449798584,\n",
       "  1.6385529041290283,\n",
       "  1.6137760877609253,\n",
       "  1.5903738737106323,\n",
       "  1.5617629289627075,\n",
       "  1.5298233032226562,\n",
       "  1.4967252016067505,\n",
       "  1.4611420631408691,\n",
       "  1.4261566400527954,\n",
       "  1.3906524181365967,\n",
       "  1.349242925643921,\n",
       "  1.312590479850769,\n",
       "  1.2722059488296509,\n",
       "  1.236818552017212,\n",
       "  1.1998255252838135,\n",
       "  1.1684092283248901,\n",
       "  1.1342710256576538,\n",
       "  1.1051892042160034,\n",
       "  1.0768598318099976,\n",
       "  1.0488812923431396,\n",
       "  1.0237499475479126,\n",
       "  0.9996929168701172,\n",
       "  0.9763614535331726,\n",
       "  0.9554246664047241,\n",
       "  0.9344731569290161,\n",
       "  0.9163390398025513,\n",
       "  0.8988127112388611,\n",
       "  0.8807149529457092,\n",
       "  0.8657180070877075,\n",
       "  0.8497203588485718,\n",
       "  0.8370656371116638,\n",
       "  0.8216530680656433,\n",
       "  0.8084684014320374,\n",
       "  0.794729471206665,\n",
       "  0.7826912999153137,\n",
       "  0.7702168822288513,\n",
       "  0.7592852711677551,\n",
       "  0.7482127547264099,\n",
       "  0.738359272480011,\n",
       "  0.7292311191558838,\n",
       "  0.7194605469703674,\n",
       "  0.7117804288864136,\n",
       "  0.7033096551895142,\n",
       "  0.6958590149879456,\n",
       "  0.6883437037467957,\n",
       "  0.6808739900588989,\n",
       "  0.6735970377922058,\n",
       "  0.6661746501922607,\n",
       "  0.6594316959381104,\n",
       "  0.6524933576583862,\n",
       "  0.6465952396392822,\n",
       "  0.6411154866218567,\n",
       "  0.6353104710578918,\n",
       "  0.6295765042304993,\n",
       "  0.623790442943573,\n",
       "  0.6191508173942566,\n",
       "  0.6134764552116394,\n",
       "  0.6086634397506714,\n",
       "  0.6035211086273193,\n",
       "  0.5993226766586304,\n",
       "  0.5937104821205139,\n",
       "  0.5901206731796265,\n",
       "  0.585144579410553,\n",
       "  0.5811461210250854,\n",
       "  0.5759486556053162,\n",
       "  0.5727319717407227,\n",
       "  0.5678592920303345,\n",
       "  0.5644741654396057,\n",
       "  0.5598276853561401,\n",
       "  0.556708574295044,\n",
       "  0.5524698495864868,\n",
       "  0.5491744875907898,\n",
       "  0.5442603230476379,\n",
       "  0.5416649580001831,\n",
       "  0.5374159216880798,\n",
       "  0.53482985496521,\n",
       "  0.532534122467041,\n",
       "  0.5295833945274353,\n",
       "  0.5269356369972229,\n",
       "  0.524338960647583,\n",
       "  0.5222338438034058,\n",
       "  0.5197697877883911,\n",
       "  0.5181016325950623,\n",
       "  0.515506386756897,\n",
       "  0.5141674280166626,\n",
       "  0.5137662887573242,\n",
       "  0.5123120546340942,\n",
       "  0.5111992359161377],\n",
       " 'val_accuracy': [0.25833332538604736,\n",
       "  0.28333333134651184,\n",
       "  0.4000000059604645,\n",
       "  0.3499999940395355,\n",
       "  0.38333332538604736,\n",
       "  0.38333332538604736,\n",
       "  0.38333332538604736,\n",
       "  0.3583333194255829,\n",
       "  0.4000000059604645,\n",
       "  0.3916666805744171,\n",
       "  0.4416666626930237,\n",
       "  0.4416666626930237,\n",
       "  0.44999998807907104,\n",
       "  0.44999998807907104,\n",
       "  0.4000000059604645,\n",
       "  0.4333333373069763,\n",
       "  0.4416666626930237,\n",
       "  0.4583333432674408,\n",
       "  0.4416666626930237,\n",
       "  0.4583333432674408,\n",
       "  0.44999998807907104,\n",
       "  0.49166667461395264,\n",
       "  0.5083333253860474,\n",
       "  0.5249999761581421,\n",
       "  0.5666666626930237,\n",
       "  0.5916666388511658,\n",
       "  0.6000000238418579,\n",
       "  0.6416666507720947,\n",
       "  0.6499999761581421,\n",
       "  0.6499999761581421,\n",
       "  0.6666666865348816,\n",
       "  0.675000011920929,\n",
       "  0.675000011920929,\n",
       "  0.6666666865348816,\n",
       "  0.6666666865348816,\n",
       "  0.6583333611488342,\n",
       "  0.6666666865348816,\n",
       "  0.675000011920929,\n",
       "  0.6666666865348816,\n",
       "  0.6833333373069763,\n",
       "  0.6833333373069763,\n",
       "  0.6916666626930237,\n",
       "  0.699999988079071,\n",
       "  0.7083333134651184,\n",
       "  0.7083333134651184,\n",
       "  0.7166666388511658,\n",
       "  0.7250000238418579,\n",
       "  0.7250000238418579,\n",
       "  0.7250000238418579,\n",
       "  0.7250000238418579,\n",
       "  0.7250000238418579,\n",
       "  0.7250000238418579,\n",
       "  0.7250000238418579,\n",
       "  0.7333333492279053,\n",
       "  0.7416666746139526,\n",
       "  0.7416666746139526,\n",
       "  0.7416666746139526,\n",
       "  0.7416666746139526,\n",
       "  0.7416666746139526,\n",
       "  0.7416666746139526,\n",
       "  0.7416666746139526,\n",
       "  0.7416666746139526,\n",
       "  0.7416666746139526,\n",
       "  0.7416666746139526,\n",
       "  0.7416666746139526,\n",
       "  0.75,\n",
       "  0.75,\n",
       "  0.75,\n",
       "  0.75,\n",
       "  0.75,\n",
       "  0.75,\n",
       "  0.75,\n",
       "  0.75,\n",
       "  0.75,\n",
       "  0.75,\n",
       "  0.75,\n",
       "  0.75,\n",
       "  0.75,\n",
       "  0.75,\n",
       "  0.75,\n",
       "  0.75,\n",
       "  0.7583333253860474,\n",
       "  0.7583333253860474,\n",
       "  0.7583333253860474,\n",
       "  0.7666666507720947,\n",
       "  0.7583333253860474,\n",
       "  0.7666666507720947,\n",
       "  0.7666666507720947,\n",
       "  0.7666666507720947,\n",
       "  0.7666666507720947,\n",
       "  0.7583333253860474,\n",
       "  0.7583333253860474,\n",
       "  0.7666666507720947,\n",
       "  0.7666666507720947,\n",
       "  0.7749999761581421,\n",
       "  0.7916666865348816,\n",
       "  0.7916666865348816,\n",
       "  0.800000011920929,\n",
       "  0.7916666865348816,\n",
       "  0.800000011920929]}"
      ]
     },
     "execution_count": 18,
     "metadata": {},
     "output_type": "execute_result"
    }
   ],
   "source": [
    "history.history"
   ]
  },
  {
   "cell_type": "markdown",
   "metadata": {},
   "source": [
    "Now visualize the loss over time using `history.history`: "
   ]
  },
  {
   "cell_type": "code",
   "execution_count": 19,
   "metadata": {},
   "outputs": [
    {
     "data": {
      "text/plain": [
       "[Text(0, 0.5, 'Accuracy'), Text(0.5, 0, 'Epoch')]"
      ]
     },
     "execution_count": 19,
     "metadata": {},
     "output_type": "execute_result"
    },
    {
     "data": {
      "image/png": "[encoded data removed]",
      "text/plain": [
       "<Figure size 864x576 with 1 Axes>"
      ]
     },
     "metadata": {
      "needs_background": "light"
     },
     "output_type": "display_data"
    },
    {
     "data": {
      "image/png": "[encoded data removed]",
      "text/plain": [
       "<Figure size 864x576 with 1 Axes>"
      ]
     },
     "metadata": {
      "needs_background": "light"
     },
     "output_type": "display_data"
    }
   ],
   "source": [
    "# The history.history[\"loss\"] entry is a dictionary with as many values as epochs that the\n",
    "# model was trained on. \n",
    "df_loss_acc = pd.DataFrame(history.history)\n",
    "df_loss= df_loss_acc[['loss','val_loss']]\n",
    "df_loss.rename(columns={'loss':'train','val_loss':'validation'},inplace=True)\n",
    "df_acc= df_loss_acc[['accuracy','val_accuracy']]\n",
    "df_acc.rename(columns={'accuracy':'train','val_accuracy':'validation'},inplace=True)\n",
    "df_loss.plot(title='Model loss',figsize=(12,8)).set(xlabel='Epoch',ylabel='Loss')\n",
    "df_acc.plot(title='Model Accuracy',figsize=(12,8)).set(xlabel='Epoch',ylabel='Accuracy')"
   ]
  },
  {
   "cell_type": "markdown",
   "metadata": {},
   "source": [
    "**Congratulations**! You've finished the assignment and built two models: One that recognizes  smiles, and another that recognizes SIGN language with almost 80% accuracy on the test set. In addition to that, you now also understand the applications of two Keras APIs: Sequential and Functional. Nicely done! \n",
    "\n",
    "By now, you know a bit about how the Functional API works and may have glimpsed the possibilities. In your next assignment, you'll really get a feel for its power when you get the opportunity to build a very deep ConvNet, using ResNets! "
   ]
  },
  {
   "cell_type": "markdown",
   "metadata": {},
   "source": [
    "<a name='6'></a>\n",
    "## 6 - Bibliography\n",
    "\n",
    "You're always encouraged to read the official documentation. To that end, you can find the docs for the Sequential and Functional APIs here: \n",
    "\n",
    "https://www.tensorflow.org/guide/keras/sequential_model\n",
    "\n",
    "https://www.tensorflow.org/guide/keras/functional"
   ]
  }
 ],
 "metadata": {
  "coursera": {
   "course_slug": "convolutional-neural-networks",
   "graded_item_id": "bwbJV",
   "launcher_item_id": "0TkXB"
  },
  "kernelspec": {
   "display_name": "Python 3",
   "language": "python",
   "name": "python3"
  },
  "language_info": {
   "codemirror_mode": {
    "name": "ipython",
    "version": 3
   },
   "file_extension": ".py",
   "mimetype": "text/x-python",
   "name": "python",
   "nbconvert_exporter": "python",
   "pygments_lexer": "ipython3",
   "version": "3.7.6"
  }
 },
 "nbformat": 4,
 "nbformat_minor": 2
}
